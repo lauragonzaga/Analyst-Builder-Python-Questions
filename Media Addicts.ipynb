import pandas as pd;

user_time.head()

merged = user_time.merge(users, how= 'inner')

avg_time = merged['media_time_minutes'].mean()

addicted = merged[merged['media_time_minutes'] > avg_time]['first_name'].sort_values()

pd.DataFrame(addicted).reset_index(drop=True)
